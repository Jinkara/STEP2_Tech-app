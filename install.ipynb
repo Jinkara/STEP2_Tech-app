{
 "cells": [
  {
   "cell_type": "code",
   "execution_count": 2,
   "id": "9a8b62e4",
   "metadata": {},
   "outputs": [
    {
     "name": "stdout",
     "output_type": "stream",
     "text": [
      "Requirement already satisfied: pillow in c:\\users\\jinka\\appdata\\local\\programs\\python\\python310\\lib\\site-packages (11.1.0)\n"
     ]
    },
    {
     "name": "stderr",
     "output_type": "stream",
     "text": [
      "\n",
      "[notice] A new release of pip is available: 24.3.1 -> 25.0.1\n",
      "[notice] To update, run: python.exe -m pip install --upgrade pip\n"
     ]
    }
   ],
   "source": [
    "!pip install pillow"
   ]
  },
  {
   "cell_type": "code",
   "execution_count": 3,
   "id": "ec377bcb",
   "metadata": {},
   "outputs": [
    {
     "name": "stdout",
     "output_type": "stream",
     "text": [
      "Collecting supabase\n",
      "  Downloading supabase-2.15.0-py3-none-any.whl.metadata (11 kB)\n",
      "Collecting gotrue<3.0.0,>=2.11.0 (from supabase)\n",
      "  Downloading gotrue-2.12.0-py3-none-any.whl.metadata (6.1 kB)\n",
      "Requirement already satisfied: httpx<0.29,>=0.26 in c:\\users\\jinka\\appdata\\local\\programs\\python\\python310\\lib\\site-packages (from supabase) (0.28.1)\n",
      "Collecting postgrest<1.1,>0.19 (from supabase)\n",
      "  Downloading postgrest-1.0.1-py3-none-any.whl.metadata (3.5 kB)\n",
      "Collecting realtime<2.5.0,>=2.4.0 (from supabase)\n",
      "  Downloading realtime-2.4.2-py3-none-any.whl.metadata (6.6 kB)\n",
      "Collecting storage3<0.12,>=0.10 (from supabase)\n",
      "  Downloading storage3-0.11.3-py3-none-any.whl.metadata (1.8 kB)\n",
      "Collecting supafunc<0.10,>=0.9 (from supabase)\n",
      "  Downloading supafunc-0.9.4-py3-none-any.whl.metadata (1.2 kB)\n",
      "Requirement already satisfied: pydantic<3,>=1.10 in c:\\users\\jinka\\appdata\\local\\programs\\python\\python310\\lib\\site-packages (from gotrue<3.0.0,>=2.11.0->supabase) (2.10.6)\n",
      "Collecting pyjwt<3.0.0,>=2.10.1 (from gotrue<3.0.0,>=2.11.0->supabase)\n",
      "  Downloading PyJWT-2.10.1-py3-none-any.whl.metadata (4.0 kB)\n",
      "Collecting pytest-mock<4.0.0,>=3.14.0 (from gotrue<3.0.0,>=2.11.0->supabase)\n",
      "  Downloading pytest_mock-3.14.0-py3-none-any.whl.metadata (3.8 kB)\n",
      "Requirement already satisfied: anyio in c:\\users\\jinka\\appdata\\local\\programs\\python\\python310\\lib\\site-packages (from httpx<0.29,>=0.26->supabase) (4.8.0)\n",
      "Requirement already satisfied: certifi in c:\\users\\jinka\\appdata\\local\\programs\\python\\python310\\lib\\site-packages (from httpx<0.29,>=0.26->supabase) (2024.12.14)\n",
      "Requirement already satisfied: httpcore==1.* in c:\\users\\jinka\\appdata\\local\\programs\\python\\python310\\lib\\site-packages (from httpx<0.29,>=0.26->supabase) (1.0.7)\n",
      "Requirement already satisfied: idna in c:\\users\\jinka\\appdata\\local\\programs\\python\\python310\\lib\\site-packages (from httpx<0.29,>=0.26->supabase) (3.10)\n",
      "Requirement already satisfied: h11<0.15,>=0.13 in c:\\users\\jinka\\appdata\\local\\programs\\python\\python310\\lib\\site-packages (from httpcore==1.*->httpx<0.29,>=0.26->supabase) (0.14.0)\n",
      "Collecting deprecation<3.0.0,>=2.1.0 (from postgrest<1.1,>0.19->supabase)\n",
      "  Downloading deprecation-2.1.0-py2.py3-none-any.whl.metadata (4.6 kB)\n",
      "Collecting strenum<0.5.0,>=0.4.9 (from postgrest<1.1,>0.19->supabase)\n",
      "  Downloading StrEnum-0.4.15-py3-none-any.whl.metadata (5.3 kB)\n",
      "Collecting aiohttp<4.0.0,>=3.11.14 (from realtime<2.5.0,>=2.4.0->supabase)\n",
      "  Downloading aiohttp-3.11.16-cp310-cp310-win_amd64.whl.metadata (8.0 kB)\n",
      "Requirement already satisfied: python-dateutil<3.0.0,>=2.8.1 in c:\\users\\jinka\\appdata\\local\\programs\\python\\python310\\lib\\site-packages (from realtime<2.5.0,>=2.4.0->supabase) (2.9.0.post0)\n",
      "Requirement already satisfied: typing-extensions<5.0.0,>=4.12.2 in c:\\users\\jinka\\appdata\\local\\programs\\python\\python310\\lib\\site-packages (from realtime<2.5.0,>=2.4.0->supabase) (4.12.2)\n",
      "Collecting websockets<15,>=11 (from realtime<2.5.0,>=2.4.0->supabase)\n",
      "  Downloading websockets-14.2-cp310-cp310-win_amd64.whl.metadata (7.0 kB)\n",
      "Collecting aiohappyeyeballs>=2.3.0 (from aiohttp<4.0.0,>=3.11.14->realtime<2.5.0,>=2.4.0->supabase)\n",
      "  Downloading aiohappyeyeballs-2.6.1-py3-none-any.whl.metadata (5.9 kB)\n",
      "Collecting aiosignal>=1.1.2 (from aiohttp<4.0.0,>=3.11.14->realtime<2.5.0,>=2.4.0->supabase)\n",
      "  Downloading aiosignal-1.3.2-py2.py3-none-any.whl.metadata (3.8 kB)\n",
      "Collecting async-timeout<6.0,>=4.0 (from aiohttp<4.0.0,>=3.11.14->realtime<2.5.0,>=2.4.0->supabase)\n",
      "  Downloading async_timeout-5.0.1-py3-none-any.whl.metadata (5.1 kB)\n",
      "Requirement already satisfied: attrs>=17.3.0 in c:\\users\\jinka\\appdata\\local\\programs\\python\\python310\\lib\\site-packages (from aiohttp<4.0.0,>=3.11.14->realtime<2.5.0,>=2.4.0->supabase) (24.3.0)\n",
      "Collecting frozenlist>=1.1.1 (from aiohttp<4.0.0,>=3.11.14->realtime<2.5.0,>=2.4.0->supabase)\n",
      "  Downloading frozenlist-1.5.0-cp310-cp310-win_amd64.whl.metadata (14 kB)\n",
      "Collecting multidict<7.0,>=4.5 (from aiohttp<4.0.0,>=3.11.14->realtime<2.5.0,>=2.4.0->supabase)\n",
      "  Downloading multidict-6.4.3-cp310-cp310-win_amd64.whl.metadata (5.5 kB)\n",
      "Collecting propcache>=0.2.0 (from aiohttp<4.0.0,>=3.11.14->realtime<2.5.0,>=2.4.0->supabase)\n",
      "  Downloading propcache-0.3.1-cp310-cp310-win_amd64.whl.metadata (11 kB)\n",
      "Collecting yarl<2.0,>=1.17.0 (from aiohttp<4.0.0,>=3.11.14->realtime<2.5.0,>=2.4.0->supabase)\n",
      "  Downloading yarl-1.20.0-cp310-cp310-win_amd64.whl.metadata (74 kB)\n",
      "Requirement already satisfied: packaging in c:\\users\\jinka\\appdata\\local\\programs\\python\\python310\\lib\\site-packages (from deprecation<3.0.0,>=2.1.0->postgrest<1.1,>0.19->supabase) (24.2)\n",
      "Collecting h2<5,>=3 (from httpx[http2]<0.29,>=0.26->gotrue<3.0.0,>=2.11.0->supabase)\n",
      "  Downloading h2-4.2.0-py3-none-any.whl.metadata (5.1 kB)\n",
      "Requirement already satisfied: annotated-types>=0.6.0 in c:\\users\\jinka\\appdata\\local\\programs\\python\\python310\\lib\\site-packages (from pydantic<3,>=1.10->gotrue<3.0.0,>=2.11.0->supabase) (0.7.0)\n",
      "Requirement already satisfied: pydantic-core==2.27.2 in c:\\users\\jinka\\appdata\\local\\programs\\python\\python310\\lib\\site-packages (from pydantic<3,>=1.10->gotrue<3.0.0,>=2.11.0->supabase) (2.27.2)\n",
      "Collecting pytest>=6.2.5 (from pytest-mock<4.0.0,>=3.14.0->gotrue<3.0.0,>=2.11.0->supabase)\n",
      "  Downloading pytest-8.3.5-py3-none-any.whl.metadata (7.6 kB)\n",
      "Requirement already satisfied: six>=1.5 in c:\\users\\jinka\\appdata\\local\\programs\\python\\python310\\lib\\site-packages (from python-dateutil<3.0.0,>=2.8.1->realtime<2.5.0,>=2.4.0->supabase) (1.17.0)\n",
      "Requirement already satisfied: exceptiongroup>=1.0.2 in c:\\users\\jinka\\appdata\\local\\programs\\python\\python310\\lib\\site-packages (from anyio->httpx<0.29,>=0.26->supabase) (1.2.2)\n",
      "Requirement already satisfied: sniffio>=1.1 in c:\\users\\jinka\\appdata\\local\\programs\\python\\python310\\lib\\site-packages (from anyio->httpx<0.29,>=0.26->supabase) (1.3.1)\n",
      "Collecting hyperframe<7,>=6.1 (from h2<5,>=3->httpx[http2]<0.29,>=0.26->gotrue<3.0.0,>=2.11.0->supabase)\n",
      "  Downloading hyperframe-6.1.0-py3-none-any.whl.metadata (4.3 kB)\n",
      "Collecting hpack<5,>=4.1 (from h2<5,>=3->httpx[http2]<0.29,>=0.26->gotrue<3.0.0,>=2.11.0->supabase)\n",
      "  Downloading hpack-4.1.0-py3-none-any.whl.metadata (4.6 kB)\n",
      "Requirement already satisfied: colorama in c:\\users\\jinka\\appdata\\local\\programs\\python\\python310\\lib\\site-packages (from pytest>=6.2.5->pytest-mock<4.0.0,>=3.14.0->gotrue<3.0.0,>=2.11.0->supabase) (0.4.6)\n",
      "Collecting iniconfig (from pytest>=6.2.5->pytest-mock<4.0.0,>=3.14.0->gotrue<3.0.0,>=2.11.0->supabase)\n",
      "  Downloading iniconfig-2.1.0-py3-none-any.whl.metadata (2.7 kB)\n",
      "Collecting pluggy<2,>=1.5 (from pytest>=6.2.5->pytest-mock<4.0.0,>=3.14.0->gotrue<3.0.0,>=2.11.0->supabase)\n",
      "  Downloading pluggy-1.5.0-py3-none-any.whl.metadata (4.8 kB)\n",
      "Requirement already satisfied: tomli>=1 in c:\\users\\jinka\\appdata\\local\\programs\\python\\python310\\lib\\site-packages (from pytest>=6.2.5->pytest-mock<4.0.0,>=3.14.0->gotrue<3.0.0,>=2.11.0->supabase) (2.2.1)\n",
      "Downloading supabase-2.15.0-py3-none-any.whl (17 kB)\n",
      "Downloading gotrue-2.12.0-py3-none-any.whl (43 kB)\n",
      "Downloading postgrest-1.0.1-py3-none-any.whl (22 kB)\n",
      "Downloading realtime-2.4.2-py3-none-any.whl (22 kB)\n",
      "Downloading storage3-0.11.3-py3-none-any.whl (17 kB)\n",
      "Downloading supafunc-0.9.4-py3-none-any.whl (7.8 kB)\n",
      "Downloading aiohttp-3.11.16-cp310-cp310-win_amd64.whl (442 kB)\n",
      "Downloading deprecation-2.1.0-py2.py3-none-any.whl (11 kB)\n",
      "Downloading PyJWT-2.10.1-py3-none-any.whl (22 kB)\n",
      "Downloading pytest_mock-3.14.0-py3-none-any.whl (9.9 kB)\n",
      "Downloading StrEnum-0.4.15-py3-none-any.whl (8.9 kB)\n",
      "Downloading websockets-14.2-cp310-cp310-win_amd64.whl (164 kB)\n",
      "Downloading aiohappyeyeballs-2.6.1-py3-none-any.whl (15 kB)\n",
      "Downloading aiosignal-1.3.2-py2.py3-none-any.whl (7.6 kB)\n",
      "Downloading async_timeout-5.0.1-py3-none-any.whl (6.2 kB)\n",
      "Downloading frozenlist-1.5.0-cp310-cp310-win_amd64.whl (51 kB)\n",
      "Downloading h2-4.2.0-py3-none-any.whl (60 kB)\n",
      "Downloading multidict-6.4.3-cp310-cp310-win_amd64.whl (38 kB)\n",
      "Downloading propcache-0.3.1-cp310-cp310-win_amd64.whl (45 kB)\n",
      "Downloading pytest-8.3.5-py3-none-any.whl (343 kB)\n",
      "Downloading yarl-1.20.0-cp310-cp310-win_amd64.whl (92 kB)\n",
      "Downloading hpack-4.1.0-py3-none-any.whl (34 kB)\n",
      "Downloading hyperframe-6.1.0-py3-none-any.whl (13 kB)\n",
      "Downloading pluggy-1.5.0-py3-none-any.whl (20 kB)\n",
      "Downloading iniconfig-2.1.0-py3-none-any.whl (6.0 kB)\n",
      "Installing collected packages: strenum, websockets, pyjwt, propcache, pluggy, multidict, iniconfig, hyperframe, hpack, frozenlist, deprecation, async-timeout, aiohappyeyeballs, yarl, pytest, h2, aiosignal, pytest-mock, aiohttp, supafunc, storage3, realtime, postgrest, gotrue, supabase\n",
      "Successfully installed aiohappyeyeballs-2.6.1 aiohttp-3.11.16 aiosignal-1.3.2 async-timeout-5.0.1 deprecation-2.1.0 frozenlist-1.5.0 gotrue-2.12.0 h2-4.2.0 hpack-4.1.0 hyperframe-6.1.0 iniconfig-2.1.0 multidict-6.4.3 pluggy-1.5.0 postgrest-1.0.1 propcache-0.3.1 pyjwt-2.10.1 pytest-8.3.5 pytest-mock-3.14.0 realtime-2.4.2 storage3-0.11.3 strenum-0.4.15 supabase-2.15.0 supafunc-0.9.4 websockets-14.2 yarl-1.20.0\n"
     ]
    },
    {
     "name": "stderr",
     "output_type": "stream",
     "text": [
      "\n",
      "[notice] A new release of pip is available: 24.3.1 -> 25.0.1\n",
      "[notice] To update, run: python.exe -m pip install --upgrade pip\n"
     ]
    }
   ],
   "source": [
    "!pip install supabase"
   ]
  },
  {
   "cell_type": "code",
   "execution_count": 1,
   "id": "2f8caa80",
   "metadata": {},
   "outputs": [
    {
     "name": "stdout",
     "output_type": "stream",
     "text": [
      "Collecting googlemaps\n",
      "  Downloading googlemaps-4.10.0.tar.gz (33 kB)\n",
      "  Installing build dependencies: started\n",
      "  Installing build dependencies: finished with status 'done'\n",
      "  Getting requirements to build wheel: started\n",
      "  Getting requirements to build wheel: finished with status 'done'\n",
      "  Installing backend dependencies: started\n",
      "  Installing backend dependencies: finished with status 'done'\n",
      "  Preparing metadata (pyproject.toml): started\n",
      "  Preparing metadata (pyproject.toml): finished with status 'done'\n",
      "Requirement already satisfied: requests<3.0,>=2.20.0 in c:\\users\\jinka\\appdata\\local\\programs\\python\\python310\\lib\\site-packages (from googlemaps) (2.32.3)\n",
      "Requirement already satisfied: charset-normalizer<4,>=2 in c:\\users\\jinka\\appdata\\local\\programs\\python\\python310\\lib\\site-packages (from requests<3.0,>=2.20.0->googlemaps) (3.4.1)\n",
      "Requirement already satisfied: idna<4,>=2.5 in c:\\users\\jinka\\appdata\\local\\programs\\python\\python310\\lib\\site-packages (from requests<3.0,>=2.20.0->googlemaps) (3.10)\n",
      "Requirement already satisfied: urllib3<3,>=1.21.1 in c:\\users\\jinka\\appdata\\local\\programs\\python\\python310\\lib\\site-packages (from requests<3.0,>=2.20.0->googlemaps) (2.3.0)\n",
      "Requirement already satisfied: certifi>=2017.4.17 in c:\\users\\jinka\\appdata\\local\\programs\\python\\python310\\lib\\site-packages (from requests<3.0,>=2.20.0->googlemaps) (2024.12.14)\n",
      "Building wheels for collected packages: googlemaps\n",
      "  Building wheel for googlemaps (pyproject.toml): started\n",
      "  Building wheel for googlemaps (pyproject.toml): finished with status 'done'\n",
      "  Created wheel for googlemaps: filename=googlemaps-4.10.0-py3-none-any.whl size=40854 sha256=7674596a7d954e6afa876ec66eef778d186e66b226a64dc64b5a7a6a7b645f00\n",
      "  Stored in directory: c:\\users\\jinka\\appdata\\local\\pip\\cache\\wheels\\17\\f8\\79\\999d5d37118fd35d7219ef57933eb9d09886c4c4503a800f84\n",
      "Successfully built googlemaps\n",
      "Installing collected packages: googlemaps\n",
      "Successfully installed googlemaps-4.10.0\n",
      "Note: you may need to restart the kernel to use updated packages.\n"
     ]
    },
    {
     "name": "stderr",
     "output_type": "stream",
     "text": [
      "\n",
      "[notice] A new release of pip is available: 24.3.1 -> 25.0.1\n",
      "[notice] To update, run: python.exe -m pip install --upgrade pip\n"
     ]
    }
   ],
   "source": [
    "pip install googlemaps"
   ]
  },
  {
   "cell_type": "code",
   "execution_count": null,
   "id": "360de8ba",
   "metadata": {},
   "outputs": [],
   "source": []
  }
 ],
 "metadata": {
  "kernelspec": {
   "display_name": "Python 3",
   "language": "python",
   "name": "python3"
  },
  "language_info": {
   "codemirror_mode": {
    "name": "ipython",
    "version": 3
   },
   "file_extension": ".py",
   "mimetype": "text/x-python",
   "name": "python",
   "nbconvert_exporter": "python",
   "pygments_lexer": "ipython3",
   "version": "3.10.11"
  }
 },
 "nbformat": 4,
 "nbformat_minor": 5
}
